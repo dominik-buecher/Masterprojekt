{
 "cells": [
  {
   "cell_type": "markdown",
   "metadata": {},
   "source": [
    "1. Datensammlung: Sammle eine ausreichende Menge von Trainingsdaten, die die RGB-Farbwerte der Trauben und den Abstand von der Punktwolke zur Sphärenmesh enthalten. Stelle sicher, dass die Trainingsdaten mit den tatsächlichen Qualitätsbewertungen der Trauben gelabelt sind.\n",
    "\n",
    "2. Datenverarbeitung: Bereite die Trainingsdaten vor, indem du sie in ein geeignetes Format für das neuronale Netz umwandelst. Normalisiere die Daten, um sicherzustellen, dass alle Merkmale in einem ähnlichen Bereich liegen.\n",
    "\n",
    "3. Modelldefinition: Definiere ein neuronales Netzwerk in Python mithilfe einer Deep-Learning-Bibliothek wie TensorFlow oder PyTorch. Das Netzwerk sollte Eingaben für die RGB-Farbwerte der Trauben und den Abstand zur Sphärenmesh akzeptieren und eine Qualitätseinschätzung als Ausgabe liefern.\n",
    "\n",
    "4. Training: Teile deine Trainingsdaten in Trainings- und Validierungssets auf und trainiere das neuronale Netzwerk mit den Trainingsdaten. Verwende einen geeigneten Optimierungsalgorithmus und eine geeignete Verlustfunktion.\n",
    "\n",
    "5. Evaluierung: Bewerte die Leistung des trainierten Modells anhand des Validierungssets. Überprüfe, wie gut das Modell in der Lage ist, die Qualität der Trauben zu bewerten.\n",
    "\n",
    "6. Feinabstimmung: Falls das Modell nicht zufriedenstellende Ergebnisse liefert, führe Feinabstimmungen durch, wie z.B. die Anpassung der Netzwerkarchitektur, die Optimierung der Hyperparameter oder die Erweiterung der Trainingsdaten.\n",
    "\n",
    "7. Test: Teste das trainierte Modell mit neuen Daten, um sicherzustellen, dass es zuverlässig die Qualität von Trauben bewerten kann."
   ]
  },
  {
   "cell_type": "markdown",
   "metadata": {},
   "source": [
    "---\n"
   ]
  },
  {
   "cell_type": "markdown",
   "metadata": {},
   "source": [
    "Import the librarys:"
   ]
  },
  {
   "cell_type": "code",
   "execution_count": 1,
   "metadata": {},
   "outputs": [
    {
     "name": "stderr",
     "output_type": "stream",
     "text": [
      "c:\\Users\\domin\\AppData\\Local\\Programs\\Python\\Python310\\lib\\site-packages\\scipy\\__init__.py:146: UserWarning: A NumPy version >=1.17.3 and <1.25.0 is required for this version of SciPy (detected version 1.26.3\n",
      "  warnings.warn(f\"A NumPy version >={np_minversion} and <{np_maxversion}\"\n"
     ]
    }
   ],
   "source": [
    "import tensorflow as tf\n",
    "from tensorflow.keras import layers, models"
   ]
  },
  {
   "cell_type": "code",
   "execution_count": null,
   "metadata": {},
   "outputs": [],
   "source": [
    "# Daten laden und vorverarbeiten\n",
    "# Hier müsstest du deinen eigenen Code für die Datenvorbereitung einfügen\n",
    "\n",
    "# Modelldefinition\n",
    "model = models.Sequential([\n",
    "    layers.Dense(64, activation='relu', input_shape=(6,)),  # 3 für RGB-Farbwerte + 3 für Abstand zur Sphärenmesh\n",
    "    layers.Dense(64, activation='relu'),\n",
    "    layers.Dense(1)  # Ausgabe: Qualitätseinschätzung\n",
    "])\n",
    "\n",
    "# Kompilierung des Modells\n",
    "model.compile(optimizer='adam', loss='mse')  # Mean Squared Error für Regression\n",
    "\n",
    "# Training des Modells\n",
    "history = model.fit(train_data, train_labels, epochs=10, validation_data=(val_data, val_labels))\n",
    "\n",
    "# Evaluierung des Modells\n",
    "loss = model.evaluate(test_data, test_labels)\n",
    "\n",
    "# Verwendung des Modells für Vorhersagen\n",
    "predictions = model.predict(new_data)\n"
   ]
  },
  {
   "cell_type": "markdown",
   "metadata": {},
   "source": []
  }
 ],
 "metadata": {
  "kernelspec": {
   "display_name": "Python 3",
   "language": "python",
   "name": "python3"
  },
  "language_info": {
   "codemirror_mode": {
    "name": "ipython",
    "version": 3
   },
   "file_extension": ".py",
   "mimetype": "text/x-python",
   "name": "python",
   "nbconvert_exporter": "python",
   "pygments_lexer": "ipython3",
   "version": "3.10.4"
  }
 },
 "nbformat": 4,
 "nbformat_minor": 2
}
