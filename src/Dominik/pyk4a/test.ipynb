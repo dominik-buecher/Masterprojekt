{
 "cells": [
  {
   "cell_type": "code",
   "execution_count": 2,
   "metadata": {},
   "outputs": [
    {
     "name": "stdout",
     "output_type": "stream",
     "text": [
      "Jupyter environment detected. Enabling Open3D WebVisualizer.\n",
      "[Open3D INFO] WebRTC GUI backend enabled.\n",
      "[Open3D INFO] WebRTCWindowSystem: HTTP handshake server disabled.\n"
     ]
    }
   ],
   "source": [
    "import open3d as o3d\n",
    "import numpy as np"
   ]
  },
  {
   "cell_type": "code",
   "execution_count": 3,
   "metadata": {},
   "outputs": [
    {
     "name": "stdout",
     "output_type": "stream",
     "text": [
      "Load a ply point cloud, print it, and render it\n",
      "[Open3D WARNING] Read PLY failed: unable to open file: dataset\\pointcloud\\pointcloud_cameraPos-0_white_1.ply\n",
      "PointCloud with 0 points.\n"
     ]
    }
   ],
   "source": [
    "print(\"Load a ply point cloud, print it, and render it\")\n",
    "ply_point_cloud = o3d.data.PLYPointCloud()\n",
    "pcd = o3d.io.read_point_cloud(\"dataset\\pointcloud\\pointcloud_cameraPos-0_white_1.ply\")\n",
    "print(pcd)\n",
    "#print(np.asarray(pcd.points))\n",
    "# o3d.visualization.draw_geometries([pcd],\n",
    "#                                   zoom=0.3412,\n",
    "#                                   front=[0.4257, -0.2125, -0.8795],\n",
    "#                                   lookat=[2.6172, 2.0475, 1.532],\n",
    "#                                   up=[-0.0694, -0.9768, 0.2024])"
   ]
  },
  {
   "cell_type": "code",
   "execution_count": 5,
   "metadata": {},
   "outputs": [],
   "source": [
    "import pyk4a"
   ]
  },
  {
   "cell_type": "code",
   "execution_count": 6,
   "metadata": {},
   "outputs": [
    {
     "data": {
      "image/png": "[encoded data removed]",
      "text/plain": [
       "<Figure size 432x288 with 1 Axes>"
      ]
     },
     "metadata": {
      "needs_background": "light"
     },
     "output_type": "display_data"
    }
   ],
   "source": [
    "import numpy as np\n",
    "from matplotlib import pyplot as plt\n",
    "from mpl_toolkits import mplot3d  # noqa: F401\n",
    "\n",
    "import pyk4a\n",
    "from pyk4a import Config, PyK4A\n",
    "\n",
    "\n",
    "def main():\n",
    "    k4a = PyK4A(\n",
    "        Config(\n",
    "            color_resolution=pyk4a.ColorResolution.RES_720P,\n",
    "            camera_fps=pyk4a.FPS.FPS_5,\n",
    "            depth_mode=pyk4a.DepthMode.WFOV_2X2BINNED,\n",
    "            synchronized_images_only=True,\n",
    "        )\n",
    "    )\n",
    "    k4a.start()\n",
    "\n",
    "    # getters and setters directly get and set on device\n",
    "    k4a.whitebalance = 4500\n",
    "    assert k4a.whitebalance == 4500\n",
    "    k4a.whitebalance = 4510\n",
    "    assert k4a.whitebalance == 4510\n",
    "    while True:\n",
    "        capture = k4a.get_capture()\n",
    "        if np.any(capture.depth) and np.any(capture.color):\n",
    "            break\n",
    "    while True:\n",
    "        capture = k4a.get_capture()\n",
    "        if np.any(capture.depth) and np.any(capture.color):\n",
    "            break\n",
    "    points = capture.depth_point_cloud.reshape((-1, 3))\n",
    "    colors = capture.transformed_color[..., (2, 1, 0)].reshape((-1, 3))\n",
    "\n",
    "    fig = plt.figure()\n",
    "    ax = fig.add_subplot(111, projection=\"3d\")\n",
    "    ax.scatter(\n",
    "        points[:, 0],\n",
    "        points[:, 1],\n",
    "        points[:, 2],\n",
    "        s=1,\n",
    "        c=colors / 255,\n",
    "    )\n",
    "    ax.set_xlabel(\"x\")\n",
    "    ax.set_ylabel(\"y\")\n",
    "    ax.set_zlabel(\"z\")\n",
    "    ax.set_xlim(-2000, 2000)\n",
    "    ax.set_ylim(-2000, 2000)\n",
    "    ax.set_zlim(0, 4000)\n",
    "    ax.view_init(elev=-90, azim=-90)\n",
    "    plt.show()\n",
    "\n",
    "    k4a.stop()\n",
    "\n",
    "\n",
    "if __name__ == \"__main__\":\n",
    "    main()"
   ]
  },
  {
   "cell_type": "code",
   "execution_count": 7,
   "metadata": {},
   "outputs": [],
   "source": [
    "import cv2\n",
    "import numpy as np\n",
    "\n",
    "import pyk4a\n",
    "from helpers import colorize\n",
    "from pyk4a import Config, PyK4A\n",
    "\n",
    "\n",
    "def main():\n",
    "    k4a = PyK4A(\n",
    "        Config(\n",
    "            color_resolution=pyk4a.ColorResolution.OFF,\n",
    "            depth_mode=pyk4a.DepthMode.NFOV_UNBINNED,\n",
    "            synchronized_images_only=False,\n",
    "        )\n",
    "    )\n",
    "    k4a.start()\n",
    "\n",
    "    # getters and setters directly get and set on device\n",
    "    k4a.whitebalance = 4500\n",
    "    assert k4a.whitebalance == 4500\n",
    "    k4a.whitebalance = 4510\n",
    "    assert k4a.whitebalance == 4510\n",
    "\n",
    "    while True:\n",
    "        capture = k4a.get_capture()\n",
    "        if np.any(capture.depth):\n",
    "            cv2.imshow(\"k4a\", colorize(capture.depth, (None, 5000), cv2.COLORMAP_HSV))\n",
    "            key = cv2.waitKey(10)\n",
    "            if key != -1:\n",
    "                cv2.destroyAllWindows()\n",
    "                break\n",
    "    k4a.stop()\n",
    "\n",
    "\n",
    "if __name__ == \"__main__\":\n",
    "    main()\n",
    "\n",
    "\n",
    "######################################\n",
    "\n",
    "import cv2\n",
    "import numpy as np\n",
    "\n",
    "import pyk4a\n",
    "from pyk4a import Config, PyK4A\n",
    "\n",
    "\n",
    "def main():\n",
    "    k4a = PyK4A(\n",
    "        Config(\n",
    "            color_resolution=pyk4a.ColorResolution.RES_720P,\n",
    "            depth_mode=pyk4a.DepthMode.NFOV_UNBINNED,\n",
    "            synchronized_images_only=True,\n",
    "        )\n",
    "    )\n",
    "    k4a.start()\n",
    "\n",
    "    # getters and setters directly get and set on device\n",
    "    k4a.whitebalance = 4500\n",
    "    assert k4a.whitebalance == 4500\n",
    "    k4a.whitebalance = 4510\n",
    "    assert k4a.whitebalance == 4510\n",
    "\n",
    "    while 1:\n",
    "        capture = k4a.get_capture()\n",
    "        if np.any(capture.color):\n",
    "            cv2.imshow(\"k4a\", capture.color[:, :, :3])\n",
    "            key = cv2.waitKey(10)\n",
    "            if key != -1:\n",
    "                cv2.destroyAllWindows()\n",
    "                break\n",
    "    k4a.stop()\n",
    "\n",
    "\n",
    "if __name__ == \"__main__\":\n",
    "    main()"
   ]
  },
  {
   "cell_type": "code",
   "execution_count": 9,
   "metadata": {},
   "outputs": [],
   "source": [
    "import cv2\n",
    "import numpy as np\n",
    "\n",
    "import pyk4a\n",
    "from pyk4a import Config, PyK4A\n",
    "\n",
    "\n",
    "def main():\n",
    "    k4a = PyK4A(\n",
    "        Config(\n",
    "            color_resolution=pyk4a.ColorResolution.RES_720P,\n",
    "            depth_mode=pyk4a.DepthMode.NFOV_UNBINNED,\n",
    "            synchronized_images_only=True,\n",
    "        )\n",
    "    )\n",
    "    k4a.start()\n",
    "\n",
    "    # getters and setters directly get and set on device\n",
    "    k4a.whitebalance = 4500\n",
    "    assert k4a.whitebalance == 4500\n",
    "    k4a.whitebalance = 4510\n",
    "    assert k4a.whitebalance == 4510\n",
    "\n",
    "    while 1:\n",
    "        capture = k4a.get_capture()\n",
    "        if np.any(capture.color):\n",
    "            cv2.imshow(\"k4a\", capture.color[:, :, :3])\n",
    "            key = cv2.waitKey(10)\n",
    "            if key != -1:\n",
    "                cv2.destroyAllWindows()\n",
    "                break\n",
    "    k4a.stop()\n",
    "\n",
    "\n",
    "if __name__ == \"__main__\":\n",
    "    main()"
   ]
  },
  {
   "cell_type": "code",
   "execution_count": 9,
   "metadata": {},
   "outputs": [],
   "source": [
    "import open3d as o3d\n",
    "\n",
    "def visualize_pointcloud(file_path):\n",
    "    # Einlesen der PointCloud\n",
    "    pcd = o3d.io.read_point_cloud(file_path)\n",
    "\n",
    "    # Visualisierung der PointCloud\n",
    "    o3d.visualization.draw_geometries([pcd])\n",
    "\n",
    "if __name__ == \"__main__\":\n",
    "    file_suffix = \"cameraPos-0_white_1\"\n",
    "    file_path = fr\"C:\\Users\\domin\\Documents\\Studium\\Master\\Masterprojekt-local\\vs_code\\dataset\\pointcloud\\pointcloud_cameraPos-0_white_1.ply\"\n",
    "\n",
    "    visualize_pointcloud(file_path)\n"
   ]
  }
 ],
 "metadata": {
  "kernelspec": {
   "display_name": "Python 3",
   "language": "python",
   "name": "python3"
  },
  "language_info": {
   "codemirror_mode": {
    "name": "ipython",
    "version": 3
   },
   "file_extension": ".py",
   "mimetype": "text/x-python",
   "name": "python",
   "nbconvert_exporter": "python",
   "pygments_lexer": "ipython3",
   "version": "3.10.4"
  }
 },
 "nbformat": 4,
 "nbformat_minor": 2
}
